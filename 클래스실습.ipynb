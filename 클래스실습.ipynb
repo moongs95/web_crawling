{
 "cells": [
  {
   "cell_type": "code",
   "execution_count": 1,
   "id": "9e92dda9-24cd-4cd6-af96-602f4dff14db",
   "metadata": {},
   "outputs": [],
   "source": [
    "class Country01:\n",
    "    name = '국가명'\n",
    "    capital = '수도'\n",
    "    population = 100\n",
    "\n",
    "    def introduce(self):\n",
    "        sentence = \"국가 소개 문장입니다.\"\n",
    "        return sentence"
   ]
  },
  {
   "cell_type": "code",
   "execution_count": 2,
   "id": "f83e018a-bd2c-4498-9513-38149aa7a93b",
   "metadata": {},
   "outputs": [],
   "source": [
    "ex1 = Country01()"
   ]
  },
  {
   "cell_type": "code",
   "execution_count": 3,
   "id": "60097c08-a68b-417e-ae0a-8ef25ca8c393",
   "metadata": {},
   "outputs": [
    {
     "data": {
      "text/plain": [
       "'국가명'"
      ]
     },
     "execution_count": 3,
     "metadata": {},
     "output_type": "execute_result"
    }
   ],
   "source": [
    "ex1.name"
   ]
  },
  {
   "cell_type": "code",
   "execution_count": 4,
   "id": "336640bc-9ffe-4e99-96af-19e9d9793975",
   "metadata": {},
   "outputs": [
    {
     "data": {
      "text/plain": [
       "'수도'"
      ]
     },
     "execution_count": 4,
     "metadata": {},
     "output_type": "execute_result"
    }
   ],
   "source": [
    "ex1.capital"
   ]
  },
  {
   "cell_type": "code",
   "execution_count": 5,
   "id": "a185580c-001f-4147-a8f5-39af55114b50",
   "metadata": {},
   "outputs": [
    {
     "data": {
      "text/plain": [
       "100"
      ]
     },
     "execution_count": 5,
     "metadata": {},
     "output_type": "execute_result"
    }
   ],
   "source": [
    "ex1.population"
   ]
  },
  {
   "cell_type": "code",
   "execution_count": 6,
   "id": "1922f344-1835-4bd9-a3c7-e44681473a47",
   "metadata": {},
   "outputs": [
    {
     "data": {
      "text/plain": [
       "'국가 소개 문장입니다.'"
      ]
     },
     "execution_count": 6,
     "metadata": {},
     "output_type": "execute_result"
    }
   ],
   "source": [
    "ex1.introduce()"
   ]
  },
  {
   "cell_type": "code",
   "execution_count": 7,
   "id": "dec41428-c698-4afb-a758-2d6c78445cda",
   "metadata": {},
   "outputs": [],
   "source": [
    "class Country02:\n",
    "    def __init__(self, name, capital, population):\n",
    "        self.name = name\n",
    "        self.capital = capital\n",
    "        self.population = population\n",
    "\n",
    "    def introduce(self):\n",
    "        print(f\"{self.name}의 수도는 {self.capital}이고, 인구는 {self.population}입니다.\")"
   ]
  },
  {
   "cell_type": "code",
   "execution_count": 8,
   "id": "e87f3e03-28eb-45a0-b6f5-39bef63cefca",
   "metadata": {},
   "outputs": [],
   "source": [
    "ex2 = Country02('대한민국','서울','5천만')"
   ]
  },
  {
   "cell_type": "code",
   "execution_count": 11,
   "id": "ec8ffa76-9144-42a1-bef6-a96cb61ad475",
   "metadata": {},
   "outputs": [
    {
     "name": "stdout",
     "output_type": "stream",
     "text": [
      "대한민국의 수도는 서울이고, 인구는 5천만입니다.\n"
     ]
    }
   ],
   "source": [
    "ex2.introduce()"
   ]
  },
  {
   "cell_type": "code",
   "execution_count": 12,
   "id": "cae70ddb-1069-47fa-9bee-7ab38ab646d1",
   "metadata": {},
   "outputs": [
    {
     "data": {
      "text/plain": [
       "'대한민국'"
      ]
     },
     "execution_count": 12,
     "metadata": {},
     "output_type": "execute_result"
    }
   ],
   "source": [
    "ex2.name"
   ]
  },
  {
   "cell_type": "code",
   "execution_count": 13,
   "id": "1471e9b4-b226-423e-9d31-062942131fa7",
   "metadata": {},
   "outputs": [
    {
     "data": {
      "text/plain": [
       "'서울'"
      ]
     },
     "execution_count": 13,
     "metadata": {},
     "output_type": "execute_result"
    }
   ],
   "source": [
    "ex2.capital"
   ]
  },
  {
   "cell_type": "code",
   "execution_count": 14,
   "id": "01c791d4-9d8f-4490-9ec5-d41c6cb12a2e",
   "metadata": {},
   "outputs": [
    {
     "data": {
      "text/plain": [
       "'5천만'"
      ]
     },
     "execution_count": 14,
     "metadata": {},
     "output_type": "execute_result"
    }
   ],
   "source": [
    "ex2.population"
   ]
  },
  {
   "cell_type": "code",
   "execution_count": 15,
   "id": "d18373f6-d469-44af-b6d0-5c93977a2eca",
   "metadata": {},
   "outputs": [],
   "source": [
    "ex2_1 = Country02(name='Japan', capital ='tokyo', population=20000000)"
   ]
  },
  {
   "cell_type": "code",
   "execution_count": 16,
   "id": "58e4bd99-6d94-4630-b067-941522bf6cbf",
   "metadata": {},
   "outputs": [
    {
     "name": "stdout",
     "output_type": "stream",
     "text": [
      "Japan의 수도는 tokyo이고, 인구는 20000000입니다.\n"
     ]
    }
   ],
   "source": [
    "ex2_1.introduce()"
   ]
  },
  {
   "cell_type": "code",
   "execution_count": 17,
   "id": "c717887c-f68b-443d-8137-dfcf27842760",
   "metadata": {},
   "outputs": [
    {
     "data": {
      "text/plain": [
       "'Japan'"
      ]
     },
     "execution_count": 17,
     "metadata": {},
     "output_type": "execute_result"
    }
   ],
   "source": [
    "ex2_1.name"
   ]
  },
  {
   "cell_type": "code",
   "execution_count": 18,
   "id": "a1792396-ff04-40b0-a9be-2e63d62ad01b",
   "metadata": {},
   "outputs": [
    {
     "data": {
      "text/plain": [
       "'tokyo'"
      ]
     },
     "execution_count": 18,
     "metadata": {},
     "output_type": "execute_result"
    }
   ],
   "source": [
    "ex2_1.capital"
   ]
  },
  {
   "cell_type": "code",
   "execution_count": 19,
   "id": "5da48cfd-1665-4995-a4f8-b0b506059246",
   "metadata": {},
   "outputs": [
    {
     "data": {
      "text/plain": [
       "20000000"
      ]
     },
     "execution_count": 19,
     "metadata": {},
     "output_type": "execute_result"
    }
   ],
   "source": [
    "ex2_1.population"
   ]
  },
  {
   "cell_type": "code",
   "execution_count": null,
   "id": "a99b38e3-b9fc-4ad3-ae02-02a216c19236",
   "metadata": {},
   "outputs": [],
   "source": []
  }
 ],
 "metadata": {
  "kernelspec": {
   "display_name": "py3_11_9",
   "language": "python",
   "name": "py3_11_9"
  },
  "language_info": {
   "codemirror_mode": {
    "name": "ipython",
    "version": 3
   },
   "file_extension": ".py",
   "mimetype": "text/x-python",
   "name": "python",
   "nbconvert_exporter": "python",
   "pygments_lexer": "ipython3",
   "version": "3.11.9"
  }
 },
 "nbformat": 4,
 "nbformat_minor": 5
}
