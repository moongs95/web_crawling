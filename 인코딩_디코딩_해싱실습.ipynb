{
 "cells": [
  {
   "cell_type": "code",
   "execution_count": 1,
   "id": "5ecad531-72dc-463d-afb6-a38d8ba98328",
   "metadata": {},
   "outputs": [
    {
     "name": "stdout",
     "output_type": "stream",
     "text": [
      "b'a'\n"
     ]
    }
   ],
   "source": [
    "string = \"a\"\n",
    "str_encode = string.encode('utf8')\n",
    "print(str_encode)"
   ]
  },
  {
   "cell_type": "code",
   "execution_count": 2,
   "id": "47a06182-bd68-4ec7-86b4-c34f24bdf4ce",
   "metadata": {},
   "outputs": [
    {
     "name": "stdout",
     "output_type": "stream",
     "text": [
      "b'julia'\n"
     ]
    }
   ],
   "source": [
    "string = 'julia'\n",
    "str_encode = string.encode('utf8')\n",
    "print(str_encode)"
   ]
  },
  {
   "cell_type": "code",
   "execution_count": 3,
   "id": "88d6b37b-d95d-4037-b01e-acd958ea38a5",
   "metadata": {},
   "outputs": [
    {
     "name": "stdout",
     "output_type": "stream",
     "text": [
      "b'\\xea\\xb6\\x8c\\xeb\\xac\\xb8\\xec\\xa7\\x84'\n"
     ]
    }
   ],
   "source": [
    "string = '권문진'\n",
    "str_encode = string.encode('utf8')\n",
    "print(str_encode)"
   ]
  },
  {
   "cell_type": "code",
   "execution_count": 4,
   "id": "0375baff-467c-4a82-97b8-0f4d81195c33",
   "metadata": {},
   "outputs": [
    {
     "name": "stdout",
     "output_type": "stream",
     "text": [
      "권문진\n"
     ]
    }
   ],
   "source": [
    "str_decode = str_encode.decode('utf8')\n",
    "print(str_decode)"
   ]
  },
  {
   "cell_type": "code",
   "execution_count": 6,
   "id": "59c52fc0-1ade-42d1-a0af-2487439f2356",
   "metadata": {},
   "outputs": [
    {
     "name": "stdout",
     "output_type": "stream",
     "text": [
      "b'\\xea\\xb0\\x90\\xec\\x9e\\x90\\xeb\\xa8\\xb9\\xea\\xb3\\xa0 \\xec\\x8b\\xb6\\xeb\\x8b\\xa4.'\n"
     ]
    }
   ],
   "source": [
    "string = '감자먹고 싶다.'\n",
    "str_encode = string.encode('utf8')\n",
    "print(str_encode)"
   ]
  },
  {
   "cell_type": "code",
   "execution_count": 10,
   "id": "3a1d6c8d-6a7f-48f4-89a0-e200097279b6",
   "metadata": {},
   "outputs": [
    {
     "name": "stdout",
     "output_type": "stream",
     "text": [
      "감자먹고 싶다.\n"
     ]
    }
   ],
   "source": [
    "a = b'\\xea\\xb0\\x90\\xec\\x9e\\x90\\xeb\\xa8\\xb9\\xea\\xb3\\xa0 \\xec\\x8b\\xb6\\xeb\\x8b\\xa4.'\n",
    "print(a.decode('utf8'))"
   ]
  },
  {
   "cell_type": "code",
   "execution_count": null,
   "id": "a8b1b5dd-df56-48b1-be5e-2d82ecff1f49",
   "metadata": {},
   "outputs": [],
   "source": []
  },
  {
   "cell_type": "code",
   "execution_count": 11,
   "id": "f43132ca-f0f2-4fd1-a428-f1233b46adb7",
   "metadata": {},
   "outputs": [],
   "source": [
    "import hashlib"
   ]
  },
  {
   "cell_type": "code",
   "execution_count": 39,
   "id": "46da5e9b-89f6-4af3-8478-5d7965bfd147",
   "metadata": {},
   "outputs": [
    {
     "name": "stdout",
     "output_type": "stream",
     "text": [
      "b'\\xea\\xb6\\x8c\\xeb\\xac\\xb8\\xec\\xa7\\x84'\n"
     ]
    }
   ],
   "source": [
    "name = \"권문진\"\n",
    "nm_encode = name.encode('utf8')\n",
    "print(nm_encode)"
   ]
  },
  {
   "cell_type": "code",
   "execution_count": 42,
   "id": "02e4ec2f-00a6-4f2f-84ad-c7d5773759e6",
   "metadata": {},
   "outputs": [
    {
     "name": "stdout",
     "output_type": "stream",
     "text": [
      "<sha256 _hashlib.HASH object @ 0x000001D1AA0D6CB0>\n"
     ]
    }
   ],
   "source": [
    "nm_hash = hashlib.sha256(nm_encode) # 블록체인 sha256방식으로 해싱, MD5 등\n",
    "print(nm_hash) # @ 메모리 주소"
   ]
  },
  {
   "cell_type": "code",
   "execution_count": 43,
   "id": "6606631c-493f-43f2-b2d5-f4e6e5cf428f",
   "metadata": {},
   "outputs": [
    {
     "name": "stdout",
     "output_type": "stream",
     "text": [
      "d3e1f8df063b0cf6ab24655295904bbd363ac0d87dc2de77b0df8313221414b5\n"
     ]
    }
   ],
   "source": [
    "nm_hash_val = nm_hash.hexdigest()\n",
    "print(nm_hash_val)"
   ]
  },
  {
   "cell_type": "code",
   "execution_count": null,
   "id": "325ce9b5-a981-44c8-a9e2-00458406a1c6",
   "metadata": {},
   "outputs": [],
   "source": []
  }
 ],
 "metadata": {
  "kernelspec": {
   "display_name": "py3_11_9",
   "language": "python",
   "name": "py3_11_9"
  },
  "language_info": {
   "codemirror_mode": {
    "name": "ipython",
    "version": 3
   },
   "file_extension": ".py",
   "mimetype": "text/x-python",
   "name": "python",
   "nbconvert_exporter": "python",
   "pygments_lexer": "ipython3",
   "version": "3.11.9"
  }
 },
 "nbformat": 4,
 "nbformat_minor": 5
}
