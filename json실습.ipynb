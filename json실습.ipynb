{
 "cells": [
  {
   "cell_type": "code",
   "execution_count": 1,
   "id": "83c64693-17e6-4361-a7ec-abfaa90bc672",
   "metadata": {},
   "outputs": [],
   "source": [
    "import json"
   ]
  },
  {
   "cell_type": "code",
   "execution_count": 2,
   "id": "317f62e9-7c99-432a-b7c1-5371bab2eab1",
   "metadata": {},
   "outputs": [],
   "source": [
    "with open(\"./test01.json\", 'r') as file:\n",
    "    data = json.load(file)"
   ]
  },
  {
   "cell_type": "code",
   "execution_count": 3,
   "id": "0acaee21-9a35-4a02-936a-59dbbc2330f0",
   "metadata": {},
   "outputs": [
    {
     "data": {
      "text/plain": [
       "[{'id': 1,\n",
       "  'name': 'Kim Crawl',\n",
       "  'age': 28,\n",
       "  'hobby': 'Painting',\n",
       "  'apply': ['Amazon', 'Microsoft']},\n",
       " {'id': 2,\n",
       "  'name': 'Lee Pai',\n",
       "  'age': 34,\n",
       "  'hobby': 'Music',\n",
       "  'apply': ['Meta', 'X', 'Linkedin']}]"
      ]
     },
     "execution_count": 3,
     "metadata": {},
     "output_type": "execute_result"
    }
   ],
   "source": [
    "data"
   ]
  },
  {
   "cell_type": "code",
   "execution_count": 5,
   "id": "126e436f-9333-4562-a1a4-621ac1b6728b",
   "metadata": {},
   "outputs": [
    {
     "data": {
      "text/plain": [
       "list"
      ]
     },
     "execution_count": 5,
     "metadata": {},
     "output_type": "execute_result"
    }
   ],
   "source": [
    "type(data)"
   ]
  },
  {
   "cell_type": "code",
   "execution_count": 6,
   "id": "9c94574c-4bd1-461f-938a-aa1703183f89",
   "metadata": {},
   "outputs": [
    {
     "data": {
      "text/plain": [
       "{'id': 1,\n",
       " 'name': 'Kim Crawl',\n",
       " 'age': 28,\n",
       " 'hobby': 'Painting',\n",
       " 'apply': ['Amazon', 'Microsoft']}"
      ]
     },
     "execution_count": 6,
     "metadata": {},
     "output_type": "execute_result"
    }
   ],
   "source": [
    "data[0]"
   ]
  },
  {
   "cell_type": "code",
   "execution_count": 7,
   "id": "64cdfa5f-d972-4037-a4a4-9745ba1c1171",
   "metadata": {},
   "outputs": [
    {
     "data": {
      "text/plain": [
       "{'id': 2,\n",
       " 'name': 'Lee Pai',\n",
       " 'age': 34,\n",
       " 'hobby': 'Music',\n",
       " 'apply': ['Meta', 'X', 'Linkedin']}"
      ]
     },
     "execution_count": 7,
     "metadata": {},
     "output_type": "execute_result"
    }
   ],
   "source": [
    "data[1]"
   ]
  },
  {
   "cell_type": "code",
   "execution_count": 8,
   "id": "8a69aea5-045b-4316-8abb-458dc7234dbe",
   "metadata": {},
   "outputs": [
    {
     "data": {
      "text/plain": [
       "1"
      ]
     },
     "execution_count": 8,
     "metadata": {},
     "output_type": "execute_result"
    }
   ],
   "source": [
    "data[0]['id']"
   ]
  },
  {
   "cell_type": "code",
   "execution_count": 9,
   "id": "e2673456-0aef-4c37-8349-033d8d0ae74c",
   "metadata": {},
   "outputs": [
    {
     "data": {
      "text/plain": [
       "'Painting'"
      ]
     },
     "execution_count": 9,
     "metadata": {},
     "output_type": "execute_result"
    }
   ],
   "source": [
    "data[0]['hobby']"
   ]
  },
  {
   "cell_type": "code",
   "execution_count": 11,
   "id": "cf69bd3a-6345-4e22-9cb1-5765ee8da1eb",
   "metadata": {},
   "outputs": [
    {
     "data": {
      "text/plain": [
       "'Amazon'"
      ]
     },
     "execution_count": 11,
     "metadata": {},
     "output_type": "execute_result"
    }
   ],
   "source": [
    "data[0]['apply'][0]"
   ]
  },
  {
   "cell_type": "code",
   "execution_count": null,
   "id": "ac99d8ed-3867-465c-b2c1-335401f1e3f0",
   "metadata": {},
   "outputs": [],
   "source": []
  },
  {
   "cell_type": "code",
   "execution_count": 13,
   "id": "499a9522-69d0-4023-8fb3-f3ef212a2ee1",
   "metadata": {},
   "outputs": [],
   "source": [
    "import pandas as pd"
   ]
  },
  {
   "cell_type": "code",
   "execution_count": 15,
   "id": "ef107083-1b85-471e-a7a6-96eeb89dc67d",
   "metadata": {},
   "outputs": [
    {
     "data": {
      "text/html": [
       "<div>\n",
       "<style scoped>\n",
       "    .dataframe tbody tr th:only-of-type {\n",
       "        vertical-align: middle;\n",
       "    }\n",
       "\n",
       "    .dataframe tbody tr th {\n",
       "        vertical-align: top;\n",
       "    }\n",
       "\n",
       "    .dataframe thead th {\n",
       "        text-align: right;\n",
       "    }\n",
       "</style>\n",
       "<table border=\"1\" class=\"dataframe\">\n",
       "  <thead>\n",
       "    <tr style=\"text-align: right;\">\n",
       "      <th></th>\n",
       "      <th>id</th>\n",
       "      <th>name</th>\n",
       "      <th>age</th>\n",
       "      <th>hobby</th>\n",
       "      <th>apply</th>\n",
       "    </tr>\n",
       "  </thead>\n",
       "  <tbody>\n",
       "    <tr>\n",
       "      <th>0</th>\n",
       "      <td>1</td>\n",
       "      <td>Kim Crawl</td>\n",
       "      <td>28</td>\n",
       "      <td>Painting</td>\n",
       "      <td>[Amazon, Microsoft]</td>\n",
       "    </tr>\n",
       "    <tr>\n",
       "      <th>1</th>\n",
       "      <td>2</td>\n",
       "      <td>Lee Pai</td>\n",
       "      <td>34</td>\n",
       "      <td>Music</td>\n",
       "      <td>[Meta, X, Linkedin]</td>\n",
       "    </tr>\n",
       "  </tbody>\n",
       "</table>\n",
       "</div>"
      ],
      "text/plain": [
       "   id       name  age     hobby                apply\n",
       "0   1  Kim Crawl   28  Painting  [Amazon, Microsoft]\n",
       "1   2    Lee Pai   34     Music  [Meta, X, Linkedin]"
      ]
     },
     "execution_count": 15,
     "metadata": {},
     "output_type": "execute_result"
    }
   ],
   "source": [
    "df = pd.DataFrame(data)\n",
    "df"
   ]
  },
  {
   "cell_type": "code",
   "execution_count": null,
   "id": "5466b2ea-fd6b-4b39-8f28-c45a139008e0",
   "metadata": {},
   "outputs": [],
   "source": []
  }
 ],
 "metadata": {
  "kernelspec": {
   "display_name": "py3_11_9",
   "language": "python",
   "name": "py3_11_9"
  },
  "language_info": {
   "codemirror_mode": {
    "name": "ipython",
    "version": 3
   },
   "file_extension": ".py",
   "mimetype": "text/x-python",
   "name": "python",
   "nbconvert_exporter": "python",
   "pygments_lexer": "ipython3",
   "version": "3.11.9"
  }
 },
 "nbformat": 4,
 "nbformat_minor": 5
}
