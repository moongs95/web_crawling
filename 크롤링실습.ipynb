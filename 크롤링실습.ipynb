{
 "cells": [
  {
   "cell_type": "code",
   "execution_count": 2,
   "id": "6c673b32-86ab-452e-8171-acd2759be144",
   "metadata": {},
   "outputs": [],
   "source": [
    "#beautifulsoup - html 해석기\n",
    "from bs4 import BeautifulSoup"
   ]
  },
  {
   "cell_type": "code",
   "execution_count": 3,
   "id": "9674b464-0cf6-4e44-b0ef-25b2b192118a",
   "metadata": {},
   "outputs": [],
   "source": [
    "html_doc = \"\"\"\n",
    "<!doctype html>\n",
    "<html>\n",
    "    <head>\n",
    "        <title>반갑습니다</title>\n",
    "    </head>\n",
    "    <body>\n",
    "        AI 부트캠프 파이팅!\n",
    "    </body>\n",
    "</html>\n",
    "\"\"\""
   ]
  },
  {
   "cell_type": "code",
   "execution_count": 4,
   "id": "96687a4c-3c19-4b02-884b-b3e15b2dc197",
   "metadata": {},
   "outputs": [],
   "source": [
    "bs_obj = BeautifulSoup(html_doc, \"html.parser\")"
   ]
  },
  {
   "cell_type": "code",
   "execution_count": 13,
   "id": "adffbe26-1746-4663-8771-dda2514c6722",
   "metadata": {},
   "outputs": [
    {
     "data": {
      "text/plain": [
       "<title>반갑습니다</title>"
      ]
     },
     "execution_count": 13,
     "metadata": {},
     "output_type": "execute_result"
    }
   ],
   "source": [
    "bs_obj.find(\"title\")"
   ]
  },
  {
   "cell_type": "code",
   "execution_count": 14,
   "id": "688dafae-be9c-4853-88d9-d8442e2a9541",
   "metadata": {},
   "outputs": [
    {
     "data": {
      "text/plain": [
       "<body>\n",
       "        AI 부트캠프 파이팅!\n",
       "    </body>"
      ]
     },
     "execution_count": 14,
     "metadata": {},
     "output_type": "execute_result"
    }
   ],
   "source": [
    "bs_obj.find(\"body\")"
   ]
  },
  {
   "cell_type": "code",
   "execution_count": null,
   "id": "7489b217-ffc0-429b-a2ca-953bd4991f70",
   "metadata": {},
   "outputs": [],
   "source": []
  }
 ],
 "metadata": {
  "kernelspec": {
   "display_name": "py3_11_9",
   "language": "python",
   "name": "py3_11_9"
  },
  "language_info": {
   "codemirror_mode": {
    "name": "ipython",
    "version": 3
   },
   "file_extension": ".py",
   "mimetype": "text/x-python",
   "name": "python",
   "nbconvert_exporter": "python",
   "pygments_lexer": "ipython3",
   "version": "3.11.9"
  }
 },
 "nbformat": 4,
 "nbformat_minor": 5
}
