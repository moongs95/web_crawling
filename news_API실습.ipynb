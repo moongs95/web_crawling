{
 "cells": [
  {
   "cell_type": "code",
   "execution_count": 2,
   "id": "911baefc-27bb-418b-8ab0-e2ab2a249b47",
   "metadata": {},
   "outputs": [],
   "source": [
    "from bs4 import BeautifulSoup\n",
    "from urllib.request import urlopen"
   ]
  },
  {
   "cell_type": "code",
   "execution_count": 13,
   "id": "4c299021-4d89-4796-8350-b9f54369a3d1",
   "metadata": {},
   "outputs": [],
   "source": [
    "start = '2025-07-20'\n",
    "keyword = 'apple'\n",
    "apikey = '75a10e996fcd4c1d861902b230ddbd51'\n",
    "\n",
    "url_popular = \"https://newsapi.org/v2/everything?q={}&from={}&sortBy=publishedAt&apiKey={}\".format(keyword, start, apikey)"
   ]
  },
  {
   "cell_type": "code",
   "execution_count": 14,
   "id": "bd21645f-0e7a-4902-87d8-204e8cbd102b",
   "metadata": {},
   "outputs": [],
   "source": [
    "html =urlopen(url_popular)\n",
    "soup = BeautifulSoup(html, 'html.parser')"
   ]
  },
  {
   "cell_type": "code",
   "execution_count": 15,
   "id": "4503ae61-91d3-4aba-bf92-2dda033151d3",
   "metadata": {},
   "outputs": [],
   "source": [
    "import json\n",
    "\n",
    "article_dict = json.loads(soup.text)\n",
    "\n",
    "# article_dict['articles'][0]\n",
    "# article_dict['articles'][0]['content']"
   ]
  },
  {
   "cell_type": "code",
   "execution_count": 23,
   "id": "cfa22243-79ea-4e22-8327-71fa26487005",
   "metadata": {},
   "outputs": [],
   "source": [
    "articles = article_dict['articles']"
   ]
  },
  {
   "cell_type": "code",
   "execution_count": 18,
   "id": "3fd13577-e040-43ad-8793-06568ec37054",
   "metadata": {},
   "outputs": [
    {
     "data": {
      "text/plain": [
       "77"
      ]
     },
     "execution_count": 18,
     "metadata": {},
     "output_type": "execute_result"
    }
   ],
   "source": [
    "len(articles)"
   ]
  },
  {
   "cell_type": "code",
   "execution_count": 24,
   "id": "f3cff4f4-e591-4816-906f-0334172838ac",
   "metadata": {},
   "outputs": [
    {
     "name": "stdout",
     "output_type": "stream",
     "text": [
      "3\n",
      "3\n"
     ]
    }
   ],
   "source": [
    "# 자체 코드\n",
    "count = 0\n",
    "for i in range(len(articles)):\n",
    "    try:\n",
    "        if ('Samsung' in articles[i]['content']) or ('samsung' in articles[i]['content']):\n",
    "            count += 1\n",
    "    except:\n",
    "        pass\n",
    "print(count)\n",
    "\n",
    "# 수업코드\n",
    "keywords = ['Samsung', 'samsung']\n",
    "count = 0\n",
    "for i in range(len(articles)):\n",
    "    for keyword in keywords:\n",
    "        try:\n",
    "            if keyword in articles[i]['content']:\n",
    "                count += 1\n",
    "        except:\n",
    "            pass\n",
    "\n",
    "print(count)"
   ]
  },
  {
   "cell_type": "code",
   "execution_count": 26,
   "id": "a7537419-b03c-4ab2-b75b-428f9b489d24",
   "metadata": {},
   "outputs": [],
   "source": [
    "# for i, article in enumerate(articles):\n",
    "#     if 'content' not in article:\n",
    "#         print(f\"Index {i} has no 'content' key: {article}\")"
   ]
  },
  {
   "cell_type": "code",
   "execution_count": null,
   "id": "d2e195d9-10ac-41e5-97ba-dd64f5ffffba",
   "metadata": {},
   "outputs": [],
   "source": []
  }
 ],
 "metadata": {
  "kernelspec": {
   "display_name": "py3_11_9",
   "language": "python",
   "name": "py3_11_9"
  },
  "language_info": {
   "codemirror_mode": {
    "name": "ipython",
    "version": 3
   },
   "file_extension": ".py",
   "mimetype": "text/x-python",
   "name": "python",
   "nbconvert_exporter": "python",
   "pygments_lexer": "ipython3",
   "version": "3.11.9"
  }
 },
 "nbformat": 4,
 "nbformat_minor": 5
}
